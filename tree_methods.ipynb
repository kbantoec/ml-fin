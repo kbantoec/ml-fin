{
 "cells": [
  {
   "cell_type": "markdown",
   "metadata": {},
   "source": [
    "# Machine Learning Tree Methods\n",
    "\n",
    "How to use tree-based machine learning models to predict future values of a stock's price, as well as how to use forest-based machine learning methods for regression and feature selection."
   ]
  },
  {
   "cell_type": "code",
   "execution_count": 48,
   "metadata": {},
   "outputs": [],
   "source": [
    "from sklearn.tree import DecisionTreeRegressor\n",
    "from sklearn.ensemble import RandomForestRegressor\n",
    "from sklearn.model_selection import ParameterGrid, GridSearchCV\n",
    "\n",
    "import pandas as pd\n",
    "import numpy as np\n",
    "import matplotlib.pyplot as plt\n",
    "import seaborn as sns\n",
    "import talib as ta\n",
    "from config import datapaths\n",
    "from feature_enfineering import FeatureEngineer"
   ]
  },
  {
   "cell_type": "code",
   "execution_count": 2,
   "metadata": {},
   "outputs": [
    {
     "data": {
      "text/plain": [
       "'0.4.19'"
      ]
     },
     "execution_count": 2,
     "metadata": {},
     "output_type": "execute_result"
    }
   ],
   "source": [
    "ta.__version__"
   ]
  },
  {
   "cell_type": "markdown",
   "metadata": {},
   "source": [
    "One problem with linear models is that we must manually add feature interactions. However, as we are going to see in this notebook, other models are able to learn non-linear relationships between features and targets. These include decision-tree-based models such as random forests and gradient boosting among many others, and neural networks.\n",
    "\n",
    "The more sophisticated models allow us to engineer more features, which can lead to a significant improvement of the predictive performance.\n",
    "\n",
    "We will use the volume data as one new feature."
   ]
  },
  {
   "cell_type": "code",
   "execution_count": 3,
   "metadata": {},
   "outputs": [
    {
     "data": {
      "text/html": [
       "<div>\n",
       "<style scoped>\n",
       "    .dataframe tbody tr th:only-of-type {\n",
       "        vertical-align: middle;\n",
       "    }\n",
       "\n",
       "    .dataframe tbody tr th {\n",
       "        vertical-align: top;\n",
       "    }\n",
       "\n",
       "    .dataframe thead th {\n",
       "        text-align: right;\n",
       "    }\n",
       "</style>\n",
       "<table border=\"1\" class=\"dataframe\">\n",
       "  <thead>\n",
       "    <tr style=\"text-align: right;\">\n",
       "      <th></th>\n",
       "      <th>Adj_Close</th>\n",
       "      <th>Adj_Volume</th>\n",
       "    </tr>\n",
       "    <tr>\n",
       "      <th>Date</th>\n",
       "      <th></th>\n",
       "      <th></th>\n",
       "    </tr>\n",
       "  </thead>\n",
       "  <tbody>\n",
       "    <tr>\n",
       "      <th>1994-04-04</th>\n",
       "      <td>72.0</td>\n",
       "      <td>0.0</td>\n",
       "    </tr>\n",
       "    <tr>\n",
       "      <th>1994-04-05</th>\n",
       "      <td>108.0</td>\n",
       "      <td>0.0</td>\n",
       "    </tr>\n",
       "    <tr>\n",
       "      <th>1994-04-06</th>\n",
       "      <td>108.0</td>\n",
       "      <td>0.0</td>\n",
       "    </tr>\n",
       "    <tr>\n",
       "      <th>1994-04-07</th>\n",
       "      <td>108.0</td>\n",
       "      <td>0.0</td>\n",
       "    </tr>\n",
       "    <tr>\n",
       "      <th>1994-04-08</th>\n",
       "      <td>108.0</td>\n",
       "      <td>0.0</td>\n",
       "    </tr>\n",
       "  </tbody>\n",
       "</table>\n",
       "</div>"
      ],
      "text/plain": [
       "            Adj_Close  Adj_Volume\n",
       "Date                             \n",
       "1994-04-04       72.0         0.0\n",
       "1994-04-05      108.0         0.0\n",
       "1994-04-06      108.0         0.0\n",
       "1994-04-07      108.0         0.0\n",
       "1994-04-08      108.0         0.0"
      ]
     },
     "execution_count": 3,
     "metadata": {},
     "output_type": "execute_result"
    }
   ],
   "source": [
    "lng_total = pd.read_csv(datapaths['LNG'], parse_dates=['Date'], index_col='Date')\n",
    "lng_total.head()"
   ]
  },
  {
   "cell_type": "code",
   "execution_count": 4,
   "metadata": {},
   "outputs": [
    {
     "name": "stdout",
     "output_type": "stream",
     "text": [
      "<class 'pandas.core.frame.DataFrame'>\n",
      "DatetimeIndex: 6052 entries, 1994-04-04 to 2018-04-16\n",
      "Data columns (total 2 columns):\n",
      " #   Column      Non-Null Count  Dtype  \n",
      "---  ------      --------------  -----  \n",
      " 0   Adj_Close   6052 non-null   float64\n",
      " 1   Adj_Volume  6052 non-null   float64\n",
      "dtypes: float64(2)\n",
      "memory usage: 141.8 KB\n"
     ]
    }
   ],
   "source": [
    "lng_total.info()"
   ]
  },
  {
   "cell_type": "code",
   "execution_count": 5,
   "metadata": {},
   "outputs": [],
   "source": [
    "lng = lng_total.loc['2016-04-15':].copy()"
   ]
  },
  {
   "cell_type": "code",
   "execution_count": 6,
   "metadata": {},
   "outputs": [
    {
     "data": {
      "text/html": [
       "<div>\n",
       "<style scoped>\n",
       "    .dataframe tbody tr th:only-of-type {\n",
       "        vertical-align: middle;\n",
       "    }\n",
       "\n",
       "    .dataframe tbody tr th {\n",
       "        vertical-align: top;\n",
       "    }\n",
       "\n",
       "    .dataframe thead th {\n",
       "        text-align: right;\n",
       "    }\n",
       "</style>\n",
       "<table border=\"1\" class=\"dataframe\">\n",
       "  <thead>\n",
       "    <tr style=\"text-align: right;\">\n",
       "      <th></th>\n",
       "      <th>Adj_Close</th>\n",
       "      <th>Adj_Volume</th>\n",
       "      <th>ma_14</th>\n",
       "      <th>ma_30</th>\n",
       "      <th>ma_50</th>\n",
       "      <th>ma_200</th>\n",
       "      <th>rsi_14</th>\n",
       "      <th>rsi_30</th>\n",
       "      <th>rsi_50</th>\n",
       "      <th>rsi_200</th>\n",
       "    </tr>\n",
       "    <tr>\n",
       "      <th>Date</th>\n",
       "      <th></th>\n",
       "      <th></th>\n",
       "      <th></th>\n",
       "      <th></th>\n",
       "      <th></th>\n",
       "      <th></th>\n",
       "      <th></th>\n",
       "      <th></th>\n",
       "      <th></th>\n",
       "      <th></th>\n",
       "    </tr>\n",
       "  </thead>\n",
       "  <tbody>\n",
       "    <tr>\n",
       "      <th>2016-04-15</th>\n",
       "      <td>37.13</td>\n",
       "      <td>4293775.0</td>\n",
       "      <td>NaN</td>\n",
       "      <td>NaN</td>\n",
       "      <td>NaN</td>\n",
       "      <td>NaN</td>\n",
       "      <td>NaN</td>\n",
       "      <td>NaN</td>\n",
       "      <td>NaN</td>\n",
       "      <td>NaN</td>\n",
       "    </tr>\n",
       "    <tr>\n",
       "      <th>2016-04-18</th>\n",
       "      <td>36.90</td>\n",
       "      <td>3445852.0</td>\n",
       "      <td>NaN</td>\n",
       "      <td>NaN</td>\n",
       "      <td>NaN</td>\n",
       "      <td>NaN</td>\n",
       "      <td>NaN</td>\n",
       "      <td>NaN</td>\n",
       "      <td>NaN</td>\n",
       "      <td>NaN</td>\n",
       "    </tr>\n",
       "    <tr>\n",
       "      <th>2016-04-19</th>\n",
       "      <td>37.12</td>\n",
       "      <td>3748050.0</td>\n",
       "      <td>NaN</td>\n",
       "      <td>NaN</td>\n",
       "      <td>NaN</td>\n",
       "      <td>NaN</td>\n",
       "      <td>NaN</td>\n",
       "      <td>NaN</td>\n",
       "      <td>NaN</td>\n",
       "      <td>NaN</td>\n",
       "    </tr>\n",
       "    <tr>\n",
       "      <th>2016-04-20</th>\n",
       "      <td>37.77</td>\n",
       "      <td>2470384.0</td>\n",
       "      <td>NaN</td>\n",
       "      <td>NaN</td>\n",
       "      <td>NaN</td>\n",
       "      <td>NaN</td>\n",
       "      <td>NaN</td>\n",
       "      <td>NaN</td>\n",
       "      <td>NaN</td>\n",
       "      <td>NaN</td>\n",
       "    </tr>\n",
       "    <tr>\n",
       "      <th>2016-04-21</th>\n",
       "      <td>37.21</td>\n",
       "      <td>2043988.0</td>\n",
       "      <td>NaN</td>\n",
       "      <td>NaN</td>\n",
       "      <td>NaN</td>\n",
       "      <td>NaN</td>\n",
       "      <td>NaN</td>\n",
       "      <td>NaN</td>\n",
       "      <td>NaN</td>\n",
       "      <td>NaN</td>\n",
       "    </tr>\n",
       "    <tr>\n",
       "      <th>...</th>\n",
       "      <td>...</td>\n",
       "      <td>...</td>\n",
       "      <td>...</td>\n",
       "      <td>...</td>\n",
       "      <td>...</td>\n",
       "      <td>...</td>\n",
       "      <td>...</td>\n",
       "      <td>...</td>\n",
       "      <td>...</td>\n",
       "      <td>...</td>\n",
       "    </tr>\n",
       "    <tr>\n",
       "      <th>2018-04-10</th>\n",
       "      <td>55.63</td>\n",
       "      <td>3430268.0</td>\n",
       "      <td>0.964343</td>\n",
       "      <td>0.962886</td>\n",
       "      <td>0.984569</td>\n",
       "      <td>0.885689</td>\n",
       "      <td>56.694826</td>\n",
       "      <td>53.669051</td>\n",
       "      <td>53.634818</td>\n",
       "      <td>53.225104</td>\n",
       "    </tr>\n",
       "    <tr>\n",
       "      <th>2018-04-11</th>\n",
       "      <td>56.25</td>\n",
       "      <td>2875489.0</td>\n",
       "      <td>0.956394</td>\n",
       "      <td>0.953209</td>\n",
       "      <td>0.972725</td>\n",
       "      <td>0.876694</td>\n",
       "      <td>58.867940</td>\n",
       "      <td>54.837252</td>\n",
       "      <td>54.387150</td>\n",
       "      <td>53.441208</td>\n",
       "    </tr>\n",
       "    <tr>\n",
       "      <th>2018-04-12</th>\n",
       "      <td>56.20</td>\n",
       "      <td>1539915.0</td>\n",
       "      <td>0.962557</td>\n",
       "      <td>0.956240</td>\n",
       "      <td>0.973310</td>\n",
       "      <td>0.878181</td>\n",
       "      <td>58.612496</td>\n",
       "      <td>54.722143</td>\n",
       "      <td>54.314625</td>\n",
       "      <td>53.421204</td>\n",
       "    </tr>\n",
       "    <tr>\n",
       "      <th>2018-04-13</th>\n",
       "      <td>55.95</td>\n",
       "      <td>1358221.0</td>\n",
       "      <td>0.971888</td>\n",
       "      <td>0.962937</td>\n",
       "      <td>0.977441</td>\n",
       "      <td>0.882828</td>\n",
       "      <td>57.274264</td>\n",
       "      <td>54.134380</td>\n",
       "      <td>53.947591</td>\n",
       "      <td>53.320907</td>\n",
       "    </tr>\n",
       "    <tr>\n",
       "      <th>2018-04-16</th>\n",
       "      <td>56.90</td>\n",
       "      <td>1949422.0</td>\n",
       "      <td>0.961185</td>\n",
       "      <td>0.949625</td>\n",
       "      <td>0.960784</td>\n",
       "      <td>0.868837</td>\n",
       "      <td>60.925214</td>\n",
       "      <td>55.992494</td>\n",
       "      <td>55.123479</td>\n",
       "      <td>53.653224</td>\n",
       "    </tr>\n",
       "  </tbody>\n",
       "</table>\n",
       "<p>504 rows × 10 columns</p>\n",
       "</div>"
      ],
      "text/plain": [
       "            Adj_Close  Adj_Volume     ma_14     ma_30     ma_50    ma_200  \\\n",
       "Date                                                                        \n",
       "2016-04-15      37.13   4293775.0       NaN       NaN       NaN       NaN   \n",
       "2016-04-18      36.90   3445852.0       NaN       NaN       NaN       NaN   \n",
       "2016-04-19      37.12   3748050.0       NaN       NaN       NaN       NaN   \n",
       "2016-04-20      37.77   2470384.0       NaN       NaN       NaN       NaN   \n",
       "2016-04-21      37.21   2043988.0       NaN       NaN       NaN       NaN   \n",
       "...               ...         ...       ...       ...       ...       ...   \n",
       "2018-04-10      55.63   3430268.0  0.964343  0.962886  0.984569  0.885689   \n",
       "2018-04-11      56.25   2875489.0  0.956394  0.953209  0.972725  0.876694   \n",
       "2018-04-12      56.20   1539915.0  0.962557  0.956240  0.973310  0.878181   \n",
       "2018-04-13      55.95   1358221.0  0.971888  0.962937  0.977441  0.882828   \n",
       "2018-04-16      56.90   1949422.0  0.961185  0.949625  0.960784  0.868837   \n",
       "\n",
       "               rsi_14     rsi_30     rsi_50    rsi_200  \n",
       "Date                                                    \n",
       "2016-04-15        NaN        NaN        NaN        NaN  \n",
       "2016-04-18        NaN        NaN        NaN        NaN  \n",
       "2016-04-19        NaN        NaN        NaN        NaN  \n",
       "2016-04-20        NaN        NaN        NaN        NaN  \n",
       "2016-04-21        NaN        NaN        NaN        NaN  \n",
       "...               ...        ...        ...        ...  \n",
       "2018-04-10  56.694826  53.669051  53.634818  53.225104  \n",
       "2018-04-11  58.867940  54.837252  54.387150  53.441208  \n",
       "2018-04-12  58.612496  54.722143  54.314625  53.421204  \n",
       "2018-04-13  57.274264  54.134380  53.947591  53.320907  \n",
       "2018-04-16  60.925214  55.992494  55.123479  53.653224  \n",
       "\n",
       "[504 rows x 10 columns]"
      ]
     },
     "execution_count": 6,
     "metadata": {},
     "output_type": "execute_result"
    }
   ],
   "source": [
    "fe = FeatureEngineer(lng)\n",
    "fe.create_moving_averages([14, 30, 50 ,200], colnames=['Adj_Close'])\n",
    "fe.create_rsi([14, 30, 50 ,200], colnames=['Adj_Close'])\n",
    "fe.df"
   ]
  },
  {
   "cell_type": "code",
   "execution_count": 7,
   "metadata": {},
   "outputs": [],
   "source": [
    "lng = fe.df.copy()"
   ]
  },
  {
   "cell_type": "code",
   "execution_count": 8,
   "metadata": {},
   "outputs": [
    {
     "data": {
      "text/plain": [
       "['ma_14', 'ma_30', 'ma_50', 'ma_200', 'rsi_14', 'rsi_30', 'rsi_50', 'rsi_200']"
      ]
     },
     "execution_count": 8,
     "metadata": {},
     "output_type": "execute_result"
    }
   ],
   "source": [
    "feature_names: list = list(lng.drop(['Adj_Close', 'Adj_Volume'], axis=1).columns)\n",
    "feature_names"
   ]
  },
  {
   "cell_type": "code",
   "execution_count": 9,
   "metadata": {},
   "outputs": [
    {
     "name": "stdout",
     "output_type": "stream",
     "text": [
      "<class 'pandas.core.frame.DataFrame'>\n",
      "DatetimeIndex: 504 entries, 2016-04-15 to 2018-04-16\n",
      "Data columns (total 13 columns):\n",
      " #   Column               Non-Null Count  Dtype  \n",
      "---  ------               --------------  -----  \n",
      " 0   Adj_Close            504 non-null    float64\n",
      " 1   Adj_Volume           504 non-null    float64\n",
      " 2   ma_14                491 non-null    float64\n",
      " 3   ma_30                475 non-null    float64\n",
      " 4   ma_50                455 non-null    float64\n",
      " 5   ma_200               305 non-null    float64\n",
      " 6   rsi_14               490 non-null    float64\n",
      " 7   rsi_30               474 non-null    float64\n",
      " 8   rsi_50               454 non-null    float64\n",
      " 9   rsi_200              304 non-null    float64\n",
      " 10  5d_future_close      499 non-null    float64\n",
      " 11  5d_close_future_ret  499 non-null    float64\n",
      " 12  5d_close_ret         499 non-null    float64\n",
      "dtypes: float64(13)\n",
      "memory usage: 55.1 KB\n"
     ]
    }
   ],
   "source": [
    "lng['5d_future_close'] = lng['Adj_Close'].shift(-5)\n",
    "lng['5d_close_future_ret'] = lng['5d_future_close'].pct_change(5)\n",
    "lng['5d_close_ret'] = lng['Adj_Close'].pct_change(5)\n",
    "lng.info()"
   ]
  },
  {
   "cell_type": "code",
   "execution_count": 10,
   "metadata": {},
   "outputs": [
    {
     "data": {
      "text/plain": [
       "['ma_14',\n",
       " 'ma_30',\n",
       " 'ma_50',\n",
       " 'ma_200',\n",
       " 'rsi_14',\n",
       " 'rsi_30',\n",
       " 'rsi_50',\n",
       " 'rsi_200',\n",
       " '5d_close_ret']"
      ]
     },
     "execution_count": 10,
     "metadata": {},
     "output_type": "execute_result"
    }
   ],
   "source": [
    "feature_names.extend(['5d_close_ret'])\n",
    "feature_names"
   ]
  },
  {
   "cell_type": "code",
   "execution_count": 11,
   "metadata": {},
   "outputs": [],
   "source": [
    "new_features: list = ['Adj_Volume_1d_change', 'Adj_Volume_1d_change_SMA']\n",
    "feature_names.extend(new_features)\n",
    "\n",
    "lng['Adj_Volume_1d_change'] = lng['Adj_Volume'].pct_change()\n",
    "lng['Adj_Volume_1d_change_SMA'] = ta.SMA(lng['Adj_Volume_1d_change'].to_numpy(), timeperiod=5)"
   ]
  },
  {
   "cell_type": "code",
   "execution_count": 12,
   "metadata": {},
   "outputs": [
    {
     "data": {
      "image/png": "[encoded data removed]",
      "text/plain": [
       "<Figure size 432x288 with 1 Axes>"
      ]
     },
     "metadata": {
      "needs_background": "light"
     },
     "output_type": "display_data"
    }
   ],
   "source": [
    "lng[new_features].plot(kind='hist', bins=50, edgecolor='k')\n",
    "plt.show()"
   ]
  },
  {
   "cell_type": "markdown",
   "metadata": {},
   "source": [
    "We can see the moving average of volume changes has a much smaller range than the raw data."
   ]
  },
  {
   "cell_type": "code",
   "execution_count": 22,
   "metadata": {},
   "outputs": [
    {
     "data": {
      "text/html": [
       "<div>\n",
       "<style scoped>\n",
       "    .dataframe tbody tr th:only-of-type {\n",
       "        vertical-align: middle;\n",
       "    }\n",
       "\n",
       "    .dataframe tbody tr th {\n",
       "        vertical-align: top;\n",
       "    }\n",
       "\n",
       "    .dataframe thead th {\n",
       "        text-align: right;\n",
       "    }\n",
       "</style>\n",
       "<table border=\"1\" class=\"dataframe\">\n",
       "  <thead>\n",
       "    <tr style=\"text-align: right;\">\n",
       "      <th></th>\n",
       "      <th>weekday_1</th>\n",
       "      <th>weekday_2</th>\n",
       "      <th>weekday_3</th>\n",
       "      <th>weekday_4</th>\n",
       "    </tr>\n",
       "  </thead>\n",
       "  <tbody>\n",
       "    <tr>\n",
       "      <th>0</th>\n",
       "      <td>0</td>\n",
       "      <td>0</td>\n",
       "      <td>0</td>\n",
       "      <td>1</td>\n",
       "    </tr>\n",
       "    <tr>\n",
       "      <th>1</th>\n",
       "      <td>0</td>\n",
       "      <td>0</td>\n",
       "      <td>0</td>\n",
       "      <td>0</td>\n",
       "    </tr>\n",
       "    <tr>\n",
       "      <th>2</th>\n",
       "      <td>1</td>\n",
       "      <td>0</td>\n",
       "      <td>0</td>\n",
       "      <td>0</td>\n",
       "    </tr>\n",
       "    <tr>\n",
       "      <th>3</th>\n",
       "      <td>0</td>\n",
       "      <td>1</td>\n",
       "      <td>0</td>\n",
       "      <td>0</td>\n",
       "    </tr>\n",
       "    <tr>\n",
       "      <th>4</th>\n",
       "      <td>0</td>\n",
       "      <td>0</td>\n",
       "      <td>1</td>\n",
       "      <td>0</td>\n",
       "    </tr>\n",
       "  </tbody>\n",
       "</table>\n",
       "</div>"
      ],
      "text/plain": [
       "   weekday_1  weekday_2  weekday_3  weekday_4\n",
       "0          0          0          0          1\n",
       "1          0          0          0          0\n",
       "2          1          0          0          0\n",
       "3          0          1          0          0\n",
       "4          0          0          1          0"
      ]
     },
     "execution_count": 22,
     "metadata": {},
     "output_type": "execute_result"
    }
   ],
   "source": [
    "days_of_week = pd.get_dummies(lng.index.dayofweek,\n",
    "                              prefix='weekday',\n",
    "                              drop_first=True)\n",
    "days_of_week.head()"
   ]
  },
  {
   "cell_type": "code",
   "execution_count": 23,
   "metadata": {},
   "outputs": [
    {
     "data": {
      "text/html": [
       "<div>\n",
       "<style scoped>\n",
       "    .dataframe tbody tr th:only-of-type {\n",
       "        vertical-align: middle;\n",
       "    }\n",
       "\n",
       "    .dataframe tbody tr th {\n",
       "        vertical-align: top;\n",
       "    }\n",
       "\n",
       "    .dataframe thead th {\n",
       "        text-align: right;\n",
       "    }\n",
       "</style>\n",
       "<table border=\"1\" class=\"dataframe\">\n",
       "  <thead>\n",
       "    <tr style=\"text-align: right;\">\n",
       "      <th></th>\n",
       "      <th>Adj_Close</th>\n",
       "      <th>Adj_Volume</th>\n",
       "      <th>ma_14</th>\n",
       "      <th>ma_30</th>\n",
       "      <th>ma_50</th>\n",
       "      <th>ma_200</th>\n",
       "      <th>rsi_14</th>\n",
       "      <th>rsi_30</th>\n",
       "      <th>rsi_50</th>\n",
       "      <th>rsi_200</th>\n",
       "      <th>5d_future_close</th>\n",
       "      <th>5d_close_future_ret</th>\n",
       "      <th>5d_close_ret</th>\n",
       "      <th>Adj_Volume_1d_change</th>\n",
       "      <th>Adj_Volume_1d_change_SMA</th>\n",
       "      <th>weekday_1</th>\n",
       "      <th>weekday_2</th>\n",
       "      <th>weekday_3</th>\n",
       "      <th>weekday_4</th>\n",
       "    </tr>\n",
       "    <tr>\n",
       "      <th>Date</th>\n",
       "      <th></th>\n",
       "      <th></th>\n",
       "      <th></th>\n",
       "      <th></th>\n",
       "      <th></th>\n",
       "      <th></th>\n",
       "      <th></th>\n",
       "      <th></th>\n",
       "      <th></th>\n",
       "      <th></th>\n",
       "      <th></th>\n",
       "      <th></th>\n",
       "      <th></th>\n",
       "      <th></th>\n",
       "      <th></th>\n",
       "      <th></th>\n",
       "      <th></th>\n",
       "      <th></th>\n",
       "      <th></th>\n",
       "    </tr>\n",
       "  </thead>\n",
       "  <tbody>\n",
       "    <tr>\n",
       "      <th>2017-01-31</th>\n",
       "      <td>47.65</td>\n",
       "      <td>2137394.0</td>\n",
       "      <td>0.950697</td>\n",
       "      <td>0.918657</td>\n",
       "      <td>0.895731</td>\n",
       "      <td>0.839267</td>\n",
       "      <td>62.968946</td>\n",
       "      <td>60.655749</td>\n",
       "      <td>57.951677</td>\n",
       "      <td>53.695377</td>\n",
       "      <td>47.81</td>\n",
       "      <td>0.003358</td>\n",
       "      <td>0.043812</td>\n",
       "      <td>-0.175332</td>\n",
       "      <td>-0.000664</td>\n",
       "      <td>1</td>\n",
       "      <td>0</td>\n",
       "      <td>0</td>\n",
       "      <td>0</td>\n",
       "    </tr>\n",
       "    <tr>\n",
       "      <th>2017-02-01</th>\n",
       "      <td>47.10</td>\n",
       "      <td>2051631.0</td>\n",
       "      <td>0.967486</td>\n",
       "      <td>0.932427</td>\n",
       "      <td>0.910110</td>\n",
       "      <td>0.850150</td>\n",
       "      <td>60.156019</td>\n",
       "      <td>59.159791</td>\n",
       "      <td>57.041713</td>\n",
       "      <td>53.487663</td>\n",
       "      <td>48.01</td>\n",
       "      <td>0.019321</td>\n",
       "      <td>-0.023429</td>\n",
       "      <td>-0.040125</td>\n",
       "      <td>-0.165783</td>\n",
       "      <td>0</td>\n",
       "      <td>1</td>\n",
       "      <td>0</td>\n",
       "      <td>0</td>\n",
       "    </tr>\n",
       "    <tr>\n",
       "      <th>2017-02-02</th>\n",
       "      <td>49.33</td>\n",
       "      <td>3081369.0</td>\n",
       "      <td>0.932220</td>\n",
       "      <td>0.895486</td>\n",
       "      <td>0.873379</td>\n",
       "      <td>0.812956</td>\n",
       "      <td>66.659314</td>\n",
       "      <td>62.988478</td>\n",
       "      <td>59.662227</td>\n",
       "      <td>54.209475</td>\n",
       "      <td>49.19</td>\n",
       "      <td>-0.002838</td>\n",
       "      <td>-0.021618</td>\n",
       "      <td>0.501912</td>\n",
       "      <td>-0.081419</td>\n",
       "      <td>0</td>\n",
       "      <td>0</td>\n",
       "      <td>1</td>\n",
       "      <td>0</td>\n",
       "    </tr>\n",
       "    <tr>\n",
       "      <th>2017-02-03</th>\n",
       "      <td>49.43</td>\n",
       "      <td>4158130.0</td>\n",
       "      <td>0.938976</td>\n",
       "      <td>0.899461</td>\n",
       "      <td>0.875497</td>\n",
       "      <td>0.812490</td>\n",
       "      <td>66.920059</td>\n",
       "      <td>63.148741</td>\n",
       "      <td>59.774509</td>\n",
       "      <td>54.241479</td>\n",
       "      <td>48.93</td>\n",
       "      <td>-0.010115</td>\n",
       "      <td>0.007336</td>\n",
       "      <td>0.349442</td>\n",
       "      <td>0.108332</td>\n",
       "      <td>0</td>\n",
       "      <td>0</td>\n",
       "      <td>0</td>\n",
       "      <td>1</td>\n",
       "    </tr>\n",
       "    <tr>\n",
       "      <th>2017-02-06</th>\n",
       "      <td>48.50</td>\n",
       "      <td>2090909.0</td>\n",
       "      <td>0.964080</td>\n",
       "      <td>0.921608</td>\n",
       "      <td>0.895860</td>\n",
       "      <td>0.829234</td>\n",
       "      <td>62.059184</td>\n",
       "      <td>60.623276</td>\n",
       "      <td>58.236185</td>\n",
       "      <td>53.889442</td>\n",
       "      <td>48.14</td>\n",
       "      <td>-0.007423</td>\n",
       "      <td>0.022129</td>\n",
       "      <td>-0.497152</td>\n",
       "      <td>0.027749</td>\n",
       "      <td>0</td>\n",
       "      <td>0</td>\n",
       "      <td>0</td>\n",
       "      <td>0</td>\n",
       "    </tr>\n",
       "  </tbody>\n",
       "</table>\n",
       "</div>"
      ],
      "text/plain": [
       "            Adj_Close  Adj_Volume     ma_14     ma_30     ma_50    ma_200  \\\n",
       "Date                                                                        \n",
       "2017-01-31      47.65   2137394.0  0.950697  0.918657  0.895731  0.839267   \n",
       "2017-02-01      47.10   2051631.0  0.967486  0.932427  0.910110  0.850150   \n",
       "2017-02-02      49.33   3081369.0  0.932220  0.895486  0.873379  0.812956   \n",
       "2017-02-03      49.43   4158130.0  0.938976  0.899461  0.875497  0.812490   \n",
       "2017-02-06      48.50   2090909.0  0.964080  0.921608  0.895860  0.829234   \n",
       "\n",
       "               rsi_14     rsi_30     rsi_50    rsi_200  5d_future_close  \\\n",
       "Date                                                                      \n",
       "2017-01-31  62.968946  60.655749  57.951677  53.695377            47.81   \n",
       "2017-02-01  60.156019  59.159791  57.041713  53.487663            48.01   \n",
       "2017-02-02  66.659314  62.988478  59.662227  54.209475            49.19   \n",
       "2017-02-03  66.920059  63.148741  59.774509  54.241479            48.93   \n",
       "2017-02-06  62.059184  60.623276  58.236185  53.889442            48.14   \n",
       "\n",
       "            5d_close_future_ret  5d_close_ret  Adj_Volume_1d_change  \\\n",
       "Date                                                                  \n",
       "2017-01-31             0.003358      0.043812             -0.175332   \n",
       "2017-02-01             0.019321     -0.023429             -0.040125   \n",
       "2017-02-02            -0.002838     -0.021618              0.501912   \n",
       "2017-02-03            -0.010115      0.007336              0.349442   \n",
       "2017-02-06            -0.007423      0.022129             -0.497152   \n",
       "\n",
       "            Adj_Volume_1d_change_SMA  weekday_1  weekday_2  weekday_3  \\\n",
       "Date                                                                    \n",
       "2017-01-31                 -0.000664          1          0          0   \n",
       "2017-02-01                 -0.165783          0          1          0   \n",
       "2017-02-02                 -0.081419          0          0          1   \n",
       "2017-02-03                  0.108332          0          0          0   \n",
       "2017-02-06                  0.027749          0          0          0   \n",
       "\n",
       "            weekday_4  \n",
       "Date                   \n",
       "2017-01-31          0  \n",
       "2017-02-01          0  \n",
       "2017-02-02          0  \n",
       "2017-02-03          1  \n",
       "2017-02-06          0  "
      ]
     },
     "execution_count": 23,
     "metadata": {},
     "output_type": "execute_result"
    }
   ],
   "source": [
    "days_of_week.index = lng.index\n",
    "lng = pd.concat([lng, days_of_week], axis=1)\n",
    "feature_names.extend(['weekday_' + str(i) for i in range(1, 5)])\n",
    "lng.dropna(inplace=True)\n",
    "lng.head()"
   ]
  },
  {
   "cell_type": "code",
   "execution_count": 24,
   "metadata": {},
   "outputs": [
    {
     "name": "stdout",
     "output_type": "stream",
     "text": [
      "<class 'pandas.core.frame.DataFrame'>\n",
      "DatetimeIndex: 299 entries, 2017-01-31 to 2018-04-09\n",
      "Data columns (total 19 columns):\n",
      " #   Column                    Non-Null Count  Dtype  \n",
      "---  ------                    --------------  -----  \n",
      " 0   Adj_Close                 299 non-null    float64\n",
      " 1   Adj_Volume                299 non-null    float64\n",
      " 2   ma_14                     299 non-null    float64\n",
      " 3   ma_30                     299 non-null    float64\n",
      " 4   ma_50                     299 non-null    float64\n",
      " 5   ma_200                    299 non-null    float64\n",
      " 6   rsi_14                    299 non-null    float64\n",
      " 7   rsi_30                    299 non-null    float64\n",
      " 8   rsi_50                    299 non-null    float64\n",
      " 9   rsi_200                   299 non-null    float64\n",
      " 10  5d_future_close           299 non-null    float64\n",
      " 11  5d_close_future_ret       299 non-null    float64\n",
      " 12  5d_close_ret              299 non-null    float64\n",
      " 13  Adj_Volume_1d_change      299 non-null    float64\n",
      " 14  Adj_Volume_1d_change_SMA  299 non-null    float64\n",
      " 15  weekday_1                 299 non-null    uint8  \n",
      " 16  weekday_2                 299 non-null    uint8  \n",
      " 17  weekday_3                 299 non-null    uint8  \n",
      " 18  weekday_4                 299 non-null    uint8  \n",
      "dtypes: float64(15), uint8(4)\n",
      "memory usage: 38.5 KB\n"
     ]
    }
   ],
   "source": [
    "lng.info()"
   ]
  },
  {
   "cell_type": "markdown",
   "metadata": {},
   "source": [
    "Now that we have our volume and datetime features, we want to check the correlations between our new features (stored in the `new_features` list) and the target (`5d_close_future_pct`) to see how strongly they are related. "
   ]
  },
  {
   "cell_type": "code",
   "execution_count": 26,
   "metadata": {},
   "outputs": [],
   "source": [
    "new_features.extend(['weekday_' + str(i) for i in range(1, 5)])"
   ]
  },
  {
   "cell_type": "code",
   "execution_count": 29,
   "metadata": {},
   "outputs": [
    {
     "data": {
      "image/png": "[encoded data removed]",
      "text/plain": [
       "<Figure size 648x648 with 2 Axes>"
      ]
     },
     "metadata": {
      "needs_background": "light"
     },
     "output_type": "display_data"
    }
   ],
   "source": [
    "plt.figure(figsize=(9, 9))\n",
    "sns.heatmap(lng[new_features  + ['5d_close_future_ret']].corr(), annot=True)\n",
    "plt.show()"
   ]
  },
  {
   "cell_type": "markdown",
   "metadata": {},
   "source": [
    "Even though the correlations are weak, they may improve our predictions via interactions with other features.\n",
    "\n",
    "## Decision Trees\n",
    "\n",
    "Random forests are a go-to model for predictions; they work well out of the box. But we'll first learn the building block of random forests (decision trees).\n",
    "\n",
    "Decision trees split the data into groups based on the features. Decision trees start with a root node, and split the data down until we reach leaf nodes.\n",
    "\n",
    "Without limiting the tree's depth (or height), it will keep splitting the data until each leaf has 1 sample in it, which is the epitome of overfitting."
   ]
  },
  {
   "cell_type": "code",
   "execution_count": 39,
   "metadata": {},
   "outputs": [
    {
     "name": "stdout",
     "output_type": "stream",
     "text": [
      "(250, 15) (49, 15)\n"
     ]
    }
   ],
   "source": [
    "train_features = lng[feature_names].iloc[:250, :].copy()\n",
    "train_targets = lng['5d_close_future_ret'].iloc[:250].copy()\n",
    "\n",
    "test_features = lng[feature_names].iloc[250:, :].copy()\n",
    "test_targets = lng['5d_close_future_ret'].iloc[250:].copy()\n",
    "\n",
    "print(train_features.shape, test_features.shape)"
   ]
  },
  {
   "cell_type": "code",
   "execution_count": 40,
   "metadata": {},
   "outputs": [
    {
     "name": "stdout",
     "output_type": "stream",
     "text": [
      "1.0\n",
      "-1.6121985851234264\n"
     ]
    }
   ],
   "source": [
    "decision_tree = DecisionTreeRegressor()\n",
    "\n",
    "decision_tree.fit(train_features, train_targets)\n",
    "\n",
    "print(decision_tree.score(train_features, train_targets))\n",
    "print(decision_tree.score(test_features, test_targets))"
   ]
  },
  {
   "cell_type": "markdown",
   "metadata": {},
   "source": [
    "We obtained a perfect fit on the training data. However, the score is terrible on the test data. This is clearly due to overfitting.\n",
    "\n",
    "We always want to optimize our machine learning models to make the best predictions possible. We can do this by **tuning hyperparameters**, which are settings for our models.\n",
    "\n",
    "For regular [decision trees](https://scikit-learn.org/stable/modules/generated/sklearn.tree.DecisionTreeRegressor.html#sklearn.tree.DecisionTreeRegressor), probably the most important hyperparameter is `max_depth`. This limits the number of splits in a decision tree. Let's find the best value of max_depth based on the $R^2$ score of our model on the test set, which we can obtain using the `score()` method of our decision tree models."
   ]
  },
  {
   "cell_type": "code",
   "execution_count": 42,
   "metadata": {},
   "outputs": [
    {
     "name": "stdout",
     "output_type": "stream",
     "text": [
      "max_depth=3\n",
      "0.313332035717818\n",
      "-0.3690285792942267 \n",
      "\n",
      "max_depth=5\n",
      "0.5117261722974892\n",
      "-0.9639866863634428 \n",
      "\n",
      "max_depth=10\n",
      "0.8989892189602487\n",
      "-0.7165063442881854 \n",
      "\n"
     ]
    }
   ],
   "source": [
    "for d in [3, 5, 10]:\n",
    "    decision_tree = DecisionTreeRegressor(max_depth=d)\n",
    "    decision_tree.fit(train_features, train_targets)\n",
    "\n",
    "    print(f'max_depth={d}')\n",
    "    print(decision_tree.score(train_features, train_targets))\n",
    "    print(decision_tree.score(test_features, test_targets), '\\n')"
   ]
  },
  {
   "cell_type": "markdown",
   "metadata": {},
   "source": [
    "Once we have an optimized model, we want to check how it is performing in more detail. We already saw the $R^2$ score, but it can be helpful to see the predictions plotted vs actual values. We can use the `.predict()` method of our decision tree model to get predictions on the train and test sets.\n",
    "\n",
    "Ideally, we want to see **diagonal lines from the lower left to the upper right**. However, due to the simplicity of decisions trees, our model is not going to do well on the test set. But it will do well on the train set."
   ]
  },
  {
   "cell_type": "code",
   "execution_count": 43,
   "metadata": {},
   "outputs": [
    {
     "data": {
      "image/png": "[encoded data removed]",
      "text/plain": [
       "<Figure size 432x288 with 1 Axes>"
      ]
     },
     "metadata": {
      "needs_background": "light"
     },
     "output_type": "display_data"
    }
   ],
   "source": [
    "decision_tree = DecisionTreeRegressor(max_depth=3)\n",
    "decision_tree.fit(train_features, train_targets)\n",
    "\n",
    "train_predictions = decision_tree.predict(train_features)\n",
    "test_predictions = decision_tree.predict(test_features)\n",
    "\n",
    "plt.scatter(train_predictions, train_targets, label='train', edgecolor='k')\n",
    "plt.scatter(test_predictions, test_targets, label='test', edgecolor='k')\n",
    "plt.show()"
   ]
  },
  {
   "cell_type": "markdown",
   "metadata": {},
   "source": [
    "The predictions group into lines because our depth is limited.\n",
    "\n",
    "## Random forests\n",
    "\n",
    "Random forests were created to reduce the variance of decision trees. As we have seen before, decision trees can work well on training data, but not so weel on test data. Meaning that the predictions greatly vary on the training set and predict poorly on the test set. The opposite of a high-variance model is a high-bias model like a linear fit that is able to capture the general trend but misses small details. Random forests balance between high-variance and high-bias models.\n",
    "\n",
    "Random forests are name as such because they're a collection of decision trees. These have differences in the way trees are created.\n",
    "\n",
    "First, we sample with replacement from our training set to get datasets for each tree we fit. This is bootstrap aggregating (or bagging). It is implied that we can have repeated observations in our sample. We may also omit some data points.\n",
    "\n",
    "Another difference between normal decision trees and random forests is how splits happen. Instead of tryping splis on all features, we sample a smaller number of features for each split. This helps to reduce the variance of our model."
   ]
  },
  {
   "cell_type": "code",
   "execution_count": 46,
   "metadata": {},
   "outputs": [
    {
     "data": {
      "text/plain": [
       "-0.1262063975163572"
      ]
     },
     "execution_count": 46,
     "metadata": {},
     "output_type": "execute_result"
    }
   ],
   "source": [
    "random_forest = RandomForestRegressor(n_estimators=200)\n",
    "random_forest.fit(train_features, train_targets)\n",
    "random_forest.score(test_features, test_targets)"
   ]
  },
  {
   "cell_type": "markdown",
   "metadata": {},
   "source": [
    "### Tuning hyperparameters"
   ]
  },
  {
   "cell_type": "code",
   "execution_count": 67,
   "metadata": {},
   "outputs": [
    {
     "name": "stdout",
     "output_type": "stream",
     "text": [
      "{'max_depth': 3, 'max_features': 4, 'n_estimators': 200, 'random_state': 21}\n",
      "{'max_depth': 3, 'max_features': 8, 'n_estimators': 200, 'random_state': 21}\n",
      "Best score: 0.0007521769649113663\n",
      "Best hyperparameter mix: {'random_state': 21, 'n_estimators': 200, 'max_features': 8, 'max_depth': 3}\n"
     ]
    }
   ],
   "source": [
    "grid = dict(n_estimators=[200], max_depth=[3], max_features=[4, 8], random_state=[21])\n",
    "\n",
    "test_scores: list = []\n",
    "    \n",
    "for g in ParameterGrid(grid):\n",
    "    random_forest.set_params(**g)\n",
    "    print(g)\n",
    "    random_forest.fit(train_features, train_targets)\n",
    "    test_scores.append(random_forest.score(test_features, test_targets))\n",
    "\n",
    "best_idx: int = np.argmax(test_scores)\n",
    "print(\"Best score:\", test_scores[best_idx])\n",
    "print(\"Best hyperparameter mix:\", ParameterGrid(grid)[best_idx])"
   ]
  },
  {
   "cell_type": "markdown",
   "metadata": {},
   "source": [
    "To see how this mix performs on various random states:"
   ]
  },
  {
   "cell_type": "code",
   "execution_count": 59,
   "metadata": {},
   "outputs": [],
   "source": [
    "best_grid = {'random_state': list(range(100)), 'n_estimators': [200], 'max_features': [8], 'max_depth': [3]}\n",
    "\n",
    "best_test_scores: list = []\n",
    "\n",
    "for g in ParameterGrid(best_grid):\n",
    "    random_forest.set_params(**g)\n",
    "    random_forest.fit(train_features, train_targets)\n",
    "    best_test_scores.append(random_forest.score(test_features, test_targets))"
   ]
  },
  {
   "cell_type": "code",
   "execution_count": 60,
   "metadata": {},
   "outputs": [
    {
     "data": {
      "image/png": "[encoded data removed]",
      "text/plain": [
       "<Figure size 432x288 with 1 Axes>"
      ]
     },
     "metadata": {
      "needs_background": "light"
     },
     "output_type": "display_data"
    }
   ],
   "source": [
    "plt.hist(best_test_scores, edgecolor='k', bins=20)\n",
    "plt.show()"
   ]
  },
  {
   "cell_type": "markdown",
   "metadata": {},
   "source": [
    "This result is not very good as our hyperparameter's mix most of the time yields a negative $R^2$ than positive..."
   ]
  },
  {
   "cell_type": "code",
   "execution_count": 68,
   "metadata": {},
   "outputs": [
    {
     "data": {
      "image/png": "[encoded data removed]",
      "text/plain": [
       "<Figure size 432x288 with 1 Axes>"
      ]
     },
     "metadata": {
      "needs_background": "light"
     },
     "output_type": "display_data"
    }
   ],
   "source": [
    "rfr = RandomForestRegressor(n_estimators=200, max_depth=3, max_features=4, random_state=21)\n",
    "rfr.fit(train_features, train_targets)\n",
    "train_predictions = rfr.predict(train_features)\n",
    "test_predictions = rfr.predict(test_features)\n",
    "\n",
    "plt.scatter(train_targets, train_predictions, label='train')\n",
    "plt.scatter(test_targets, test_predictions, label='test')\n",
    "plt.legend()\n",
    "plt.show()"
   ]
  },
  {
   "cell_type": "markdown",
   "metadata": {},
   "source": [
    "We can see our train predictions are good, but test predictions (generalization) are not great.\n",
    "\n",
    "### GridSearchCV"
   ]
  },
  {
   "cell_type": "code",
   "execution_count": 81,
   "metadata": {},
   "outputs": [
    {
     "name": "stdout",
     "output_type": "stream",
     "text": [
      "-0.4115233873080798\n",
      "{'max_depth': 3, 'max_features': 4, 'n_estimators': 200, 'random_state': 21}\n"
     ]
    }
   ],
   "source": [
    "param_grid = dict(n_estimators=[200], max_depth=[3, 5, 10], max_features=[4, 8], random_state=[21])\n",
    "\n",
    "rfr = RandomForestRegressor()\n",
    "\n",
    "rfr_cv = GridSearchCV(rfr, param_grid)\n",
    "    \n",
    "rfr_cv.fit(train_features, train_targets)\n",
    "\n",
    "print(rfr_cv.best_score_)\n",
    "print(rfr_cv.best_params_)"
   ]
  },
  {
   "cell_type": "code",
   "execution_count": null,
   "metadata": {},
   "outputs": [],
   "source": []
  }
 ],
 "metadata": {
  "kernelspec": {
   "display_name": "TA-Lib 3.8",
   "language": "python",
   "name": "talib"
  },
  "language_info": {
   "codemirror_mode": {
    "name": "ipython",
    "version": 3
   },
   "file_extension": ".py",
   "mimetype": "text/x-python",
   "name": "python",
   "nbconvert_exporter": "python",
   "pygments_lexer": "ipython3",
   "version": "3.7.3"
  }
 },
 "nbformat": 4,
 "nbformat_minor": 4
}
